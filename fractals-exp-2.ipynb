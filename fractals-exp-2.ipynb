{
 "cells": [
  {
   "cell_type": "code",
   "execution_count": 1,
   "metadata": {
    "collapsed": true
   },
   "outputs": [],
   "source": [
    "import numpy as np\n",
    "from PIL import Image\n",
    "# from concurrent.futures import ProcessPoolExecutor, ThreadPoolExecutor\n",
    "\n",
    "# def multiprocessing(func, args, workers):\n",
    "#     with ProcessPoolExecutor(workers) as ex:\n",
    "#         res = ex.map(func, args)\n",
    "#     return list(res)"
   ]
  },
  {
   "cell_type": "code",
   "execution_count": 2,
   "metadata": {},
   "outputs": [
    {
     "name": "stdout",
     "output_type": "stream",
     "text": [
      "[[-2.       -2.      ]\n",
      " [-1.997999 -2.      ]\n",
      " [-1.995998 -2.      ]\n",
      " ...\n",
      " [ 1.995998  2.      ]\n",
      " [ 1.997999  2.      ]\n",
      " [ 2.        2.      ]]\n",
      "[-2.      -2.j -1.997999-2.j -1.995998-2.j ...  1.995998+2.j  1.997999+2.j\n",
      "  2.      +2.j]\n"
     ]
    }
   ],
   "source": [
    "a, b, step = -2, 2, 0.001 # start, stop, and step values for the 'window'.\n",
    "# N = np.arange(a, b+step, step)\n",
    "w, h = 2000, 2000\n",
    "X = np.linspace(-2, 2, w)\n",
    "Y = np.linspace(-2, 2, h) # if the width is 50% larger than height, than the interval [start, stop] should be 50% larger and the number of steps should be 50% greater.\n",
    "# N_2 = \n",
    "\n",
    "def cartesian_product(x, y):\n",
    "    return np.transpose([np.tile(x, len(y)), np.repeat(y, len(x))])\n",
    "\n",
    "# c_0 = cartesian_product(N, N)\n",
    "c_0 = cartesian_product(X, Y)\n",
    "\n",
    "# print(N)\n",
    "print(c_0)\n",
    "\n",
    "# convert the 2D array into an array of complex numbers. \n",
    "c_0_i = 1j*c_0[...,1] # build the complex components\n",
    "c_0_i += c_0[...,0] # build the real components\n",
    "\n",
    "c_0_i += 0 + 1j*0 # offset in complex plane. (0 + 1j*0) = offset by (0,0)\n",
    "\n",
    "print(c_0_i)"
   ]
  },
  {
   "cell_type": "code",
   "execution_count": 3,
   "metadata": {},
   "outputs": [
    {
     "name": "stdout",
     "output_type": "stream",
     "text": [
      "(4000000,)\n"
     ]
    }
   ],
   "source": [
    "print(c_0_i.shape)"
   ]
  },
  {
   "cell_type": "code",
   "execution_count": 4,
   "metadata": {},
   "outputs": [
    {
     "name": "stdout",
     "output_type": "stream",
     "text": [
      "(3+2j) (3-2j)\n",
      "z-star times z: (13+0j)\n",
      "square of absolute value of z: 12.999999999999998\n"
     ]
    }
   ],
   "source": [
    "# MAX_ITERATIONS = 1\n",
    "# MAX_VALUE = 4\n",
    "\n",
    "# def mandelbrot(loc):\n",
    "# #     print(loc, loc.shape, type(loc))\n",
    "#     iteration = 0\n",
    "#     z = 1j * 0\n",
    "#     while iteration < MAX_ITERATIONS and abs(z) < MAX_VALUE and abs(z) > 0:\n",
    "#         z = z**2 + loc\n",
    "#         iteration += 1\n",
    "#     return iteration\n",
    "\n",
    "# z = multiprocessing(mandelbrot, c_0_i, 8)\n",
    "\n",
    "z = 3 + 2j\n",
    "print(z, z.conjugate())\n",
    "\n",
    "print(\"z-star times z:\",z.conjugate()*z)\n",
    "print(\"square of absolute value of z:\", abs(z)**2)"
   ]
  },
  {
   "cell_type": "code",
   "execution_count": 70,
   "metadata": {
    "collapsed": true
   },
   "outputs": [],
   "source": [
    "# z_(n+1) = z_(n)^2 + c \n",
    "# c = some complex number (in the complex plane)\n",
    "# z_0 = 0\n",
    "# iteration applied repeatedly. \n",
    "\n",
    "# history = np.concatenate((np.expand_dims(z, 0), np.expand_dims(z, 0)), 0) # use history to make a color gradient \n",
    "# history = np.zeros((40+2,len(c_0_i))) * 1j\n",
    "# print(z.shape, history.shape)"
   ]
  },
  {
   "cell_type": "code",
   "execution_count": 71,
   "metadata": {
    "collapsed": true
   },
   "outputs": [],
   "source": [
    "# print(list(range(2)))"
   ]
  },
  {
   "cell_type": "code",
   "execution_count": 5,
   "metadata": {},
   "outputs": [
    {
     "name": "stderr",
     "output_type": "stream",
     "text": [
      "/home/brian/anaconda3/lib/python3.6/site-packages/ipykernel_launcher.py:32: RuntimeWarning: overflow encountered in power\n",
      "/home/brian/anaconda3/lib/python3.6/site-packages/ipykernel_launcher.py:32: RuntimeWarning: invalid value encountered in power\n",
      "/home/brian/anaconda3/lib/python3.6/site-packages/ipykernel_launcher.py:32: RuntimeWarning: invalid value encountered in subtract\n",
      "/home/brian/anaconda3/lib/python3.6/site-packages/ipykernel_launcher.py:32: RuntimeWarning: overflow encountered in square\n",
      "/home/brian/anaconda3/lib/python3.6/site-packages/ipykernel_launcher.py:32: RuntimeWarning: invalid value encountered in square\n",
      "/home/brian/anaconda3/lib/python3.6/site-packages/ipykernel_launcher.py:32: RuntimeWarning: invalid value encountered in add\n"
     ]
    }
   ],
   "source": [
    "# Mandelbrot fractal.\n",
    "def mandelbrot(z, c, itr):\n",
    "    history = np.expand_dims(z, 0)\n",
    "    for n in range(itr):\n",
    "        z = z**2 + c\n",
    "        history = np.concatenate((history, np.expand_dims(z, 0)), 0)\n",
    "    return history, z\n",
    "\n",
    "\n",
    "# z -> (z+c)**2\n",
    "def heaven(z, c, itr):\n",
    "    history = np.concatenate((np.expand_dims(z, 0), np.expand_dims(z, 0)), 0)\n",
    "    # IDEA: instead of progressively making a larger array, make a sufficiently large array at construction,\n",
    "    # then index into the appropriate portion.\n",
    "    for n in range(40):\n",
    "        z = history[n-1,:] - history[n-2, :] + (z + c)**2 + (z + c)**4\n",
    "        history = np.concatenate((history, np.expand_dims(z, 0)), 0)\n",
    "    return history, z\n",
    "\n",
    "# z -> (z+c)**2\n",
    "def lotus(z, c, itr):\n",
    "#     history = np.concatenate((np.expand_dims(z, 0), np.expand_dims(z, 0)), 0)\n",
    "    history = np.zeros((itr+2,len(c))) * 1j\n",
    "    for n in range(2,42):\n",
    "        z = (history[n-1,:] - history[n-2, :])**2 + (z+c)**2 + (z+c)**4\n",
    "        history[n] = z\n",
    "    return history, z\n",
    "\n",
    "def lotus2(z, c, itr):\n",
    "    history = np.zeros((itr+2,len(c))) * 1j\n",
    "    for n in range(2,42):\n",
    "        z = (z - history[n-1, :]) + (z+c)**2 + (z+c)**3 + (z+c)**4\n",
    "        history[n] = z\n",
    "    return history, z\n",
    "\n",
    "# other ideas: Use quaternions in the formula, visualize in 4D as a video, or reduce to 3 values and visualize in 3D!\n",
    "\n",
    "# IDEA: Parallelize across pixels to determine which iteration the pixel exceeds a cutoff value. \n",
    "# have a map across all the pixels, then calculate which iteration each pixel exceeds some cutoff. \n",
    "# history, z = mandelbrot(z, c_0_i, 40)\n",
    "z = 1j * np.zeros(len(c_0)) # z_0 = 0\n",
    "\n",
    "history, z = lotus2(z, c_0_i, 40)"
   ]
  },
  {
   "cell_type": "code",
   "execution_count": 31,
   "metadata": {},
   "outputs": [
    {
     "name": "stderr",
     "output_type": "stream",
     "text": [
      "/home/brian/anaconda3/lib/python3.6/site-packages/ipykernel_launcher.py:3: RuntimeWarning: overflow encountered in absolute\n",
      "  This is separate from the ipykernel package so we can avoid doing imports until\n",
      "/home/brian/anaconda3/lib/python3.6/site-packages/scipy/special/_logsumexp.py:112: RuntimeWarning: overflow encountered in exp\n",
      "  tmp = np.exp(a - a_max)\n"
     ]
    },
    {
     "name": "stdout",
     "output_type": "stream",
     "text": [
      "(42, 4000000)\n"
     ]
    }
   ],
   "source": [
    "from scipy.special import softmax\n",
    "THRESH = 2\n",
    "softmins = -softmax(abs(abs(history) - THRESH), axis=0)\n",
    "\n",
    "\n",
    "print(softmins.shape)"
   ]
  },
  {
   "cell_type": "code",
   "execution_count": 32,
   "metadata": {},
   "outputs": [
    {
     "name": "stdout",
     "output_type": "stream",
     "text": [
      "(4000000,)\n"
     ]
    }
   ],
   "source": [
    "v = np.expand_dims(np.arange(42), axis=1)\n",
    "exps = np.sum(softmins * v, axis=0)\n",
    "\n",
    "print(exps.shape)"
   ]
  },
  {
   "cell_type": "code",
   "execution_count": 33,
   "metadata": {},
   "outputs": [
    {
     "name": "stdout",
     "output_type": "stream",
     "text": [
      "[-19.75398955 -20.07213494 -20.21965087 -20.13722473 -20.07033854\n",
      " -20.20841684 -20.03947727 -20.22299854 -20.14720401 -20.24933865\n",
      " -20.21481677 -19.87653616 -20.2630145  -41.         -41.\n",
      " -20.26828008 -20.26452791 -20.26422462 -20.26454802 -41.\n",
      " -20.2668536  -20.26535301 -20.26338101 -20.26277674 -19.72743346\n",
      " -20.26772365 -20.26578062 -20.26301798 -20.24935117 -20.19483039\n",
      " -20.26364798 -41.         -20.2191602  -20.26396315 -20.26314494\n",
      " -20.26133871 -20.26539429 -20.266494   -20.26383119 -20.06363431\n",
      " -20.23183058 -20.01154369 -20.18130041 -20.25778086 -20.25705289\n",
      " -20.25924782 -20.26202307 -20.26305517 -20.26380175 -20.26531825\n",
      " -20.26648548 -20.26629957 -20.26464666 -20.26866374 -20.26732151\n",
      " -20.13182086 -25.39561137 -20.26293872 -20.26161805 -20.26107746\n",
      " -20.26197268 -20.26304761 -20.26411289 -20.26524255 -20.2662381\n",
      " -20.26709096 -20.2683201  -20.26920834 -20.24570143 -20.6777522\n",
      " -19.39726291 -20.25569643 -20.2223673  -20.25782053 -20.26041581\n",
      " -20.26103116 -20.26196622 -20.26309184 -20.26424509 -20.26535793\n",
      " -20.26637959 -20.26734497 -20.26835918 -20.26924897 -20.26421393\n",
      " -20.27202375 -20.24827839 -20.05610535 -20.31218437 -20.00269145\n",
      " -20.25798933 -20.25702343 -20.25800872 -20.2594635  -20.26058748\n",
      " -20.26177383 -20.26304676 -20.26431757 -20.26550939 -20.26658154]\n",
      "-41.00000000000005\n"
     ]
    }
   ],
   "source": [
    "print(exps[np.isnan(exps)==False][:100])\n",
    "print(min(exps[np.isnan(exps)==False]))\n",
    "# exps -= 820"
   ]
  },
  {
   "cell_type": "code",
   "execution_count": 27,
   "metadata": {},
   "outputs": [
    {
     "name": "stdout",
     "output_type": "stream",
     "text": [
      "[21.24601045 20.92786506 20.78034913 20.86277527 20.92966146 20.79158316\n",
      " 20.96052273 20.77700146 20.85279599 20.75066135 20.78518323 21.12346384\n",
      " 20.7369855   0.          0.         20.73171992 20.73547209 20.73577538\n",
      " 20.73545198  0.         20.7331464  20.73464699 20.73661899 20.73722326\n",
      " 21.27256654 20.73227635 20.73421938 20.73698202 20.75064883 20.80516961\n",
      " 20.73635202  0.         20.7808398  20.73603685 20.73685506 20.73866129\n",
      " 20.73460571 20.733506   20.73616881 20.93636569 20.76816942 20.98845631\n",
      " 20.81869959 20.74221914 20.74294711 20.74075218 20.73797693 20.73694483\n",
      " 20.73619825 20.73468175 20.73351452 20.73370043 20.73535334 20.73133626\n",
      " 20.73267849 20.86817914 15.60438863 20.73706128 20.73838195 20.73892254\n",
      " 20.73802732 20.73695239 20.73588711 20.73475745 20.7337619  20.73290904\n",
      " 20.7316799  20.73079166 20.75429857 20.3222478  21.60273709 20.74430357\n",
      " 20.7776327  20.74217947 20.73958419 20.73896884 20.73803378 20.73690816\n",
      " 20.73575491 20.73464207 20.73362041 20.73265503 20.73164082 20.73075103\n",
      " 20.73578607 20.72797625 20.75172161 20.94389465 20.68781563 20.99730855\n",
      " 20.74201067 20.74297657 20.74199128 20.7405365  20.73941252 20.73822617\n",
      " 20.73695324 20.73568243 20.73449061 20.73341846]\n",
      "0.0\n"
     ]
    }
   ],
   "source": [
    "print(exps[np.isnan(exps)==False][:100])\n",
    "print(min(exps[np.isnan(exps)==False]))"
   ]
  },
  {
   "cell_type": "code",
   "execution_count": 19,
   "metadata": {},
   "outputs": [
    {
     "ename": "NameError",
     "evalue": "name 'random' is not defined",
     "output_type": "error",
     "traceback": [
      "\u001b[0;31m---------------------------------------------------------------------------\u001b[0m",
      "\u001b[0;31mNameError\u001b[0m                                 Traceback (most recent call last)",
      "\u001b[0;32m<ipython-input-19-e30a86235c30>\u001b[0m in \u001b[0;36m<module>\u001b[0;34m()\u001b[0m\n\u001b[0;32m----> 1\u001b[0;31m \u001b[0mprint\u001b[0m\u001b[0;34m(\u001b[0m\u001b[0mrandom\u001b[0m\u001b[0;34m.\u001b[0m\u001b[0mchoice\u001b[0m\u001b[0;34m(\u001b[0m\u001b[0mexps\u001b[0m\u001b[0;34m)\u001b[0m\u001b[0;34m)\u001b[0m\u001b[0;34m\u001b[0m\u001b[0m\n\u001b[0m",
      "\u001b[0;31mNameError\u001b[0m: name 'random' is not defined"
     ]
    }
   ],
   "source": [
    "# print(random.choice(exps))"
   ]
  },
  {
   "cell_type": "code",
   "execution_count": 9,
   "metadata": {},
   "outputs": [
    {
     "data": {
      "text/plain": [
       "array([nan, nan, nan, nan, nan, nan, nan, nan, nan, nan, nan, nan, nan,\n",
       "       nan, nan, nan, nan, nan, nan, nan, nan, nan, nan, nan, nan, nan,\n",
       "       nan, nan, nan, nan, nan, nan, nan, nan, nan, nan, nan, nan, nan,\n",
       "       nan, nan, nan])"
      ]
     },
     "execution_count": 9,
     "metadata": {},
     "output_type": "execute_result"
    }
   ],
   "source": [
    "softmins[:,38325]"
   ]
  },
  {
   "cell_type": "code",
   "execution_count": 73,
   "metadata": {},
   "outputs": [
    {
     "name": "stdout",
     "output_type": "stream",
     "text": [
      "(42, 4000000)\n"
     ]
    },
    {
     "name": "stderr",
     "output_type": "stream",
     "text": [
      "/home/brian/anaconda3/lib/python3.6/site-packages/ipykernel_launcher.py:3: RuntimeWarning: overflow encountered in absolute\n",
      "  This is separate from the ipykernel package so we can avoid doing imports until\n"
     ]
    },
    {
     "name": "stdout",
     "output_type": "stream",
     "text": [
      "(4000000,) [6 6 6 6 6 6 6 6 6 6 6 6 6 6 6 6 6 6 6 6 6 6 6 6 6 6 6 6 6 6 6 6 6 6 6 6 6\n",
      " 6 6 6 6 6 6 6 6 6 6 6 6 6 6 6 6 6 6 6 6 6 6 6 6 6 6 6 6 6 6 6 6 6 6 6 6 6\n",
      " 6 6 6 6 6 6 6 6 6 6 6 6 6 6 6 6 6 6 6 6 6 6 6 6 6 6]\n"
     ]
    }
   ],
   "source": [
    "print(history.shape)\n",
    "THRESH = 2\n",
    "argmins = np.argmin(abs(abs(history) - THRESH), 0)\n",
    "print(argmins.shape, argmins[:100])\n",
    "\n",
    "# argmaxes = np.argmax(history, 0)\n",
    "\n",
    "# print(argmaxes.shape, argmaxes[:10])\n"
   ]
  },
  {
   "cell_type": "code",
   "execution_count": 33,
   "metadata": {
    "collapsed": true
   },
   "outputs": [],
   "source": [
    "argmins_list = list(argmins)\n",
    "counts = {i:argmins_list.count(i) for i in list(set(argmins_list))}"
   ]
  },
  {
   "cell_type": "code",
   "execution_count": 34,
   "metadata": {},
   "outputs": [
    {
     "name": "stdout",
     "output_type": "stream",
     "text": [
      "{1: 113054, 2: 108390, 3: 63480, 4: 19430, 5: 15896, 6: 11592, 7: 6216, 8: 4944, 9: 2939, 10: 6028, 11: 1129154, 12: 1357974, 13: 483961, 14: 220363, 15: 118262, 16: 73888, 17: 47947, 18: 35139, 19: 25787, 20: 20076, 21: 15276, 22: 13364, 23: 10064, 24: 8996, 25: 7724, 26: 6780, 27: 5450, 28: 5556, 29: 4188, 30: 4058, 31: 3633, 32: 3313, 33: 3078, 34: 2980, 35: 2249, 36: 2397, 37: 2268, 38: 2254, 39: 1690, 40: 2080, 41: 1494, 42: 1698, 43: 1620, 44: 1503, 45: 1075, 46: 1442, 47: 1122, 48: 1296, 49: 1280, 50: 1238, 51: 1214, 52: 1734, 53: 1409, 54: 1377, 55: 1284, 56: 1384, 57: 1116, 58: 1590, 59: 1062, 60: 2144}\n"
     ]
    }
   ],
   "source": [
    "print(counts)"
   ]
  },
  {
   "cell_type": "code",
   "execution_count": 43,
   "metadata": {},
   "outputs": [
    {
     "name": "stdout",
     "output_type": "stream",
     "text": [
      "[0.99 0.99 0.99]\n"
     ]
    }
   ],
   "source": [
    "\n",
    "arr = np.array([0,0,0.99])\n",
    "rgb = plot.colors.hsv_to_rgb(arr)\n",
    "print(rgb)"
   ]
  },
  {
   "cell_type": "code",
   "execution_count": 30,
   "metadata": {},
   "outputs": [
    {
     "name": "stderr",
     "output_type": "stream",
     "text": [
      "/home/brian/anaconda3/lib/python3.6/site-packages/ipykernel_launcher.py:12: RuntimeWarning: invalid value encountered in less\n",
      "  if sys.path[0] == '':\n"
     ]
    },
    {
     "name": "stdout",
     "output_type": "stream",
     "text": [
      "[[0 0 0]\n",
      " [0 0 0]\n",
      " [0 0 0]\n",
      " ...\n",
      " [0 0 0]\n",
      " [0 0 0]\n",
      " [0 0 0]]\n"
     ]
    }
   ],
   "source": [
    "import matplotlib as plot\n",
    "\n",
    "# map iteration numbers to hues.\n",
    "def color_map(argmins, z):\n",
    "    # IDEA: Use black for values below some cutoff, and hues for values above that. \n",
    "    h = (argmins / (20.0)  * 360) + 240 # calculate hue.\n",
    "    \n",
    "    \n",
    "#     h[np.isnan(c)] = 90 / 360 \n",
    "    \n",
    "    hsv = np.column_stack((h, np.ones(len(h)), np.zeros(len(h)) + 0.5))\n",
    "    hsv[abs(z)<2] = np.zeros(3)\n",
    "    rgb = plot.colors.hsv_to_rgb(hsv)\n",
    "#     rgb[np.isnan(c)] = np.zeros(3)\n",
    "    rgb_int = (rgb * 256).astype(np.uint8) \n",
    "    return rgb_int\n",
    "\n",
    "z_rgb = color_map(exps, z)\n",
    "print(z_rgb)\n",
    "# rearrange the 1D array of hue values to 2D.\n",
    "# s = int(len(z_rgb)**(1/2))\n",
    "img = Image.fromarray(z_rgb.reshape(w,h,3))\n",
    "img.show()"
   ]
  },
  {
   "cell_type": "code",
   "execution_count": 12,
   "metadata": {},
   "outputs": [
    {
     "name": "stderr",
     "output_type": "stream",
     "text": [
      "/home/brian/anaconda3/lib/python3.6/site-packages/ipykernel_launcher.py:16: RuntimeWarning: invalid value encountered in remainder\n",
      "  app.launch_new_instance()\n"
     ]
    },
    {
     "name": "stdout",
     "output_type": "stream",
     "text": [
      "[[ 64 128   0]\n",
      " [ 64 128   0]\n",
      " [ 64 128   0]\n",
      " ...\n",
      " [ 64 128   0]\n",
      " [ 64 128   0]\n",
      " [ 64 128   0]]\n"
     ]
    }
   ],
   "source": [
    "import matplotlib as plot\n",
    "\n",
    "\n",
    "# Create high contrast between positive and negative space of the fractal\n",
    "# pos_space = [<primary_colors...>] # cardnality of set determines visual complexity (could be function)\n",
    "# Instead of 'h = (360 - np.log(abs(c)) % (180)) / (360)' - \n",
    "# (c) => return 'position in pos_space \n",
    "\n",
    "# neg_space = [<secondary_colors...>] # cardnality of set determines visual complexity (could be function)\n",
    "# Instead of 'h[np.isnan(c)] = 90 / 360 ' - \n",
    "# (c) => return 'position in neg_space\n",
    "\n",
    "# map absolute values to hues.\n",
    "def color_map(c):\n",
    "    # IDEA: Use black for values below some cutoff, and hues for values above that. \n",
    "    h = (360 - np.log(abs(c)) % (180)) / (360) # calculate hue.\n",
    "#     h[c<1] = 0\n",
    "    \n",
    "    h[np.isnan(c)] = 90 / 360 \n",
    "    \n",
    "    hsv = np.column_stack((h, np.ones(len(h)), np.zeros(len(h)) + 0.5))\n",
    "    rgb = plot.colors.hsv_to_rgb(hsv)\n",
    "#     rgb[np.isnan(c)] = np.zeros(3)\n",
    "    rgb_int = (rgb * 256).astype(np.uint8) \n",
    "    return rgb_int\n",
    "\n",
    "z_rgb = color_map(z)\n",
    "print(z_rgb)\n",
    "# rearrange the 1D array of hue values to 2D.\n",
    "# s = int(len(z_rgb)**(1/2))\n",
    "img = Image.fromarray(z_rgb.reshape(w,h,3))\n",
    "img.show()"
   ]
  },
  {
   "cell_type": "code",
   "execution_count": 26,
   "metadata": {
    "collapsed": true
   },
   "outputs": [],
   "source": [
    "# data = np.zeros( (1024,1024,3), dtype=np.uint8 )\n",
    "\n",
    "# data[512,512] = [254,0,0]       # Makes the middle pixel red\n",
    "# data[512,513] = [0,0,255]       # Makes the next pixel blue\n",
    "\n",
    "# img = Image.fromarray( data )       # Create a PIL image\n",
    "# img.show()    \n"
   ]
  },
  {
   "cell_type": "code",
   "execution_count": null,
   "metadata": {
    "collapsed": true
   },
   "outputs": [],
   "source": []
  }
 ],
 "metadata": {
  "kernelspec": {
   "display_name": "Python 3",
   "language": "python",
   "name": "python3"
  },
  "language_info": {
   "codemirror_mode": {
    "name": "ipython",
    "version": 3
   },
   "file_extension": ".py",
   "mimetype": "text/x-python",
   "name": "python",
   "nbconvert_exporter": "python",
   "pygments_lexer": "ipython3",
   "version": "3.6.1"
  }
 },
 "nbformat": 4,
 "nbformat_minor": 2
}
