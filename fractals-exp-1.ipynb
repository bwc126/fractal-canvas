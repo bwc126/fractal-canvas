{
 "cells": [
  {
   "cell_type": "code",
   "execution_count": 1,
   "metadata": {
    "collapsed": true
   },
   "outputs": [],
   "source": [
    "import numpy as np\n",
    "from PIL import Image"
   ]
  },
  {
   "cell_type": "code",
   "execution_count": 32,
   "metadata": {},
   "outputs": [
    {
     "name": "stdout",
     "output_type": "stream",
     "text": [
      "[[-2.         -2.        ]\n",
      " [-1.99899975 -2.        ]\n",
      " [-1.9979995  -2.        ]\n",
      " ...\n",
      " [ 1.9979995   2.        ]\n",
      " [ 1.99899975  2.        ]\n",
      " [ 2.          2.        ]]\n",
      "[-2.        -2.j -1.99899975-2.j -1.9979995 -2.j ...  1.9979995 +2.j\n",
      "  1.99899975+2.j  2.        +2.j]\n"
     ]
    }
   ],
   "source": [
    "a, b, step = -2, 2, 0.001 # start, stop, and step values for the 'window'.\n",
    "# N = np.arange(a, b+step, step)\n",
    "w, h = 4000, 4000\n",
    "X = np.linspace(-2, 2, w)\n",
    "Y = np.linspace(-2, 2, h)\n",
    "# N_2 = \n",
    "\n",
    "def cartesian_product(x, y):\n",
    "    return np.transpose([np.tile(x, len(y)), np.repeat(y, len(x))])\n",
    "\n",
    "# c_0 = cartesian_product(N, N)\n",
    "c_0 = cartesian_product(X, Y)\n",
    "\n",
    "# print(N)\n",
    "print(c_0)\n",
    "\n",
    "# convert the 2D array into an array of complex numbers. \n",
    "c_0_i = 1j*c_0[...,1] # build the complex components\n",
    "c_0_i += c_0[...,0] # build the real components\n",
    "\n",
    "print(c_0_i)"
   ]
  },
  {
   "cell_type": "code",
   "execution_count": 43,
   "metadata": {},
   "outputs": [
    {
     "name": "stderr",
     "output_type": "stream",
     "text": [
      "/home/brian/anaconda3/lib/python3.6/site-packages/ipykernel_launcher.py:12: RuntimeWarning: overflow encountered in square\n",
      "  if sys.path[0] == '':\n",
      "/home/brian/anaconda3/lib/python3.6/site-packages/ipykernel_launcher.py:12: RuntimeWarning: invalid value encountered in square\n",
      "  if sys.path[0] == '':\n",
      "/home/brian/anaconda3/lib/python3.6/site-packages/ipykernel_launcher.py:14: RuntimeWarning: invalid value encountered in less\n",
      "  \n"
     ]
    },
    {
     "name": "stdout",
     "output_type": "stream",
     "text": [
      "[-0.0008718 +0.00278099j  0.31329044+0.40711572j  0.07485824+0.07272151j\n",
      " ...  0.07485824-0.07272151j  0.31329044-0.40711572j\n",
      " -0.0008718 -0.00278099j]\n"
     ]
    },
    {
     "name": "stderr",
     "output_type": "stream",
     "text": [
      "/home/brian/anaconda3/lib/python3.6/site-packages/ipykernel_launcher.py:15: RuntimeWarning: invalid value encountered in less\n",
      "  from ipykernel import kernelapp as app\n"
     ]
    },
    {
     "name": "stdout",
     "output_type": "stream",
     "text": [
      "16000000 1569140\n",
      "4000.0\n",
      "nan\n"
     ]
    }
   ],
   "source": [
    "# z_(n+1) = z_(n)^2 + c \n",
    "# c = some complex number.\n",
    "# z_0 = 0\n",
    "# iteration applied repeatedly. \n",
    "\n",
    "# try it the basic \"dumb\" way first!\n",
    "z = 1j * np.zeros(len(c_0)) # z_0 = 0\n",
    "\n",
    "# z = 1j * np.random.random(len(c_0)) + np.random.random(len(c_0)) # z_0 = random\n",
    "\n",
    "for n in range(60):\n",
    "    z = z**2 + c_0_i\n",
    "    \n",
    "print(z[abs(z)<1])\n",
    "bounded = z[abs(z)<1]\n",
    "print(len(c_0_i), len(bounded))\n",
    "print(len(c_0_i)**(1/2))\n",
    "print(max(abs(z)))\n",
    "\n",
    "# other ideas: Use quaternions in the formula, visualize in 4D as a video, or reduce to 3 values and visualize in 3D!\n",
    "\n",
    "# IDEA: Parallelize across pixels to determine which iteration the pixel exceeds a cutoff value. \n",
    "# have a map across all the pixels, then calculate which iteration each pixel exceeds some cutoff. "
   ]
  },
  {
   "cell_type": "code",
   "execution_count": 57,
   "metadata": {},
   "outputs": [
    {
     "name": "stderr",
     "output_type": "stream",
     "text": [
      "/home/brian/anaconda3/lib/python3.6/site-packages/ipykernel_launcher.py:16: RuntimeWarning: invalid value encountered in remainder\n",
      "  app.launch_new_instance()\n"
     ]
    },
    {
     "name": "stdout",
     "output_type": "stream",
     "text": [
      "[[ 64 128   0]\n",
      " [ 64 128   0]\n",
      " [ 64 128   0]\n",
      " ...\n",
      " [ 64 128   0]\n",
      " [ 64 128   0]\n",
      " [ 64 128   0]]\n"
     ]
    }
   ],
   "source": [
    "import matplotlib as plot\n",
    "\n",
    "\n",
    "# Create high contrast between positive and negative space of the fractal\n",
    "# pos_space = [<primary_colors...>] # cardnality of set determines visual complexity (could be function)\n",
    "# Instead of 'h = (360 - np.log(abs(c)) % (180)) / (360)' - \n",
    "# (c) => return 'position in pos_space \n",
    "\n",
    "# neg_space = [<secondary_colors...>] # cardnality of set determines visual complexity (could be function)\n",
    "# Instead of 'h[np.isnan(c)] = 90 / 360 ' - \n",
    "# (c) => return 'position in neg_space\n",
    "\n",
    "# map absolute values to hues.\n",
    "def color_map(c):\n",
    "    # IDEA: Use black for values below some cutoff, and hues for values above that. \n",
    "    h = (360 - np.log(abs(c)) % (180)) / (360) # calculate hue.\n",
    "#     h[c<1] = 0\n",
    "    \n",
    "    h[np.isnan(c)] = 90 / 360 \n",
    "    \n",
    "    hsv = np.column_stack((h, np.ones(len(h)), np.zeros(len(h)) + 0.5))\n",
    "    rgb = plot.colors.hsv_to_rgb(hsv)\n",
    "#     rgb[np.isnan(c)] = np.zeros(3)\n",
    "    rgb_int = (rgb * 256).astype(np.uint8) \n",
    "    return rgb_int\n",
    "\n",
    "z_rgb = color_map(z)\n",
    "print(z_rgb)\n",
    "# rearrange the 1D array of hue values to 2D.\n",
    "# s = int(len(z_rgb)**(1/2))\n",
    "img = Image.fromarray(z_rgb.reshape(w,h,3))\n",
    "img.show()"
   ]
  },
  {
   "cell_type": "code",
   "execution_count": 26,
   "metadata": {
    "collapsed": true
   },
   "outputs": [],
   "source": [
    "# data = np.zeros( (1024,1024,3), dtype=np.uint8 )\n",
    "\n",
    "# data[512,512] = [254,0,0]       # Makes the middle pixel red\n",
    "# data[512,513] = [0,0,255]       # Makes the next pixel blue\n",
    "\n",
    "# img = Image.fromarray( data )       # Create a PIL image\n",
    "# img.show()    \n"
   ]
  },
  {
   "cell_type": "code",
   "execution_count": null,
   "metadata": {
    "collapsed": true
   },
   "outputs": [],
   "source": []
  }
 ],
 "metadata": {
  "kernelspec": {
   "display_name": "Python 3",
   "language": "python",
   "name": "python3"
  },
  "language_info": {
   "codemirror_mode": {
    "name": "ipython",
    "version": 3
   },
   "file_extension": ".py",
   "mimetype": "text/x-python",
   "name": "python",
   "nbconvert_exporter": "python",
   "pygments_lexer": "ipython3",
   "version": "3.6.1"
  }
 },
 "nbformat": 4,
 "nbformat_minor": 2
}
